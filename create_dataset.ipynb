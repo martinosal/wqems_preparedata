{
 "cells": [
  {
   "cell_type": "code",
   "execution_count": 1,
   "id": "9da2dbe2",
   "metadata": {},
   "outputs": [],
   "source": [
    "import rasterio\n",
    "import torch\n",
    "from torchvision import transforms\n",
    "import torchvision.transforms.functional as F\n",
    "import random\n",
    "from PIL import Image\n",
    "\n",
    "from time import time\n",
    "import csv\n",
    "import os\n",
    "import numpy as np\n",
    "\n",
    "import matplotlib.pyplot as plt\n",
    "from random import shuffle\n",
    "from itertools import compress"
   ]
  },
  {
   "cell_type": "code",
   "execution_count": 57,
   "id": "0fffcb2d",
   "metadata": {},
   "outputs": [],
   "source": [
    "class InMemoryDataset(torch.utils.data.Dataset):\n",
    "  \n",
    "    def __init__(self, data_list, preprocess_func):\n",
    "        self.data_list = data_list\n",
    "        self.preprocess_func = preprocess_func\n",
    "\n",
    "    def __getitem__(self, i):\n",
    "        return self.preprocess_func(self.data_list[i])\n",
    "\n",
    "    def __len__(self):\n",
    "        return len(self.data_list)\n",
    "\n",
    "\n",
    "def processAndAugment(data):\n",
    "    (x,y) = data\n",
    "    im,label = x.copy(), y.copy()\n",
    "\n",
    "    # convert to PIL for easier transforms\n",
    "    im1 = Image.fromarray(im[0])\n",
    "    im2 = Image.fromarray(im[1])\n",
    "    label = Image.fromarray(label.squeeze())\n",
    "\n",
    "  # Get params for random transforms\n",
    "    i, j, h, w = transforms.RandomCrop.get_params(im1, (256, 256))\n",
    "\n",
    "    im1 = F.crop(im1, i, j, h, w)\n",
    "    im2 = F.crop(im2, i, j, h, w)\n",
    "    label = F.crop(label, i, j, h, w)\n",
    "    if random.random() > 0.5:\n",
    "        im1 = F.hflip(im1)\n",
    "        im2 = F.hflip(im2)\n",
    "        label = F.hflip(label)\n",
    "    if random.random() > 0.5:\n",
    "        im1 = F.vflip(im1)\n",
    "        im2 = F.vflip(im2)\n",
    "        label = F.vflip(label)\n",
    "\n",
    "    norm = transforms.Normalize([0.6851, 0.5235], [0.0820, 0.1102])\n",
    "    im = torch.stack([transforms.ToTensor()(im1).squeeze(), transforms.ToTensor()(im2).squeeze()])\n",
    "    #im = norm(im)\n",
    "    label = transforms.ToTensor()(label).squeeze()\n",
    "    if torch.sum(label.gt(.003) * label.lt(.004)):\n",
    "        label *= 255\n",
    "    #label = label.round()\n",
    "\n",
    "    return im, label\n",
    "\n",
    "def processTestIm(data):\n",
    "    (x,y) = data\n",
    "    im,label = x.copy(), y.copy()\n",
    "    norm = transforms.Normalize([0.6851, 0.5235], [0.0820, 0.1102])\n",
    "\n",
    "    # convert to PIL for easier transforms\n",
    "    im_c1 = Image.fromarray(im[0]).resize((512,512))\n",
    "    im_c2 = Image.fromarray(im[1]).resize((512,512))\n",
    "    label = Image.fromarray(label.squeeze()).resize((512,512))\n",
    "\n",
    "    im_c1s = [F.crop(im_c1, 0, 0, 256, 256), F.crop(im_c1, 0, 256, 256, 256),\n",
    "            F.crop(im_c1, 256, 0, 256, 256), F.crop(im_c1, 256, 256, 256, 256)]\n",
    "    im_c2s = [F.crop(im_c2, 0, 0, 256, 256), F.crop(im_c2, 0, 256, 256, 256),\n",
    "            F.crop(im_c2, 256, 0, 256, 256), F.crop(im_c2, 256, 256, 256, 256)]\n",
    "    labels = [F.crop(label, 0, 0, 256, 256), F.crop(label, 0, 256, 256, 256),\n",
    "            F.crop(label, 256, 0, 256, 256), F.crop(label, 256, 256, 256, 256)]\n",
    "\n",
    "    ims = [torch.stack((transforms.ToTensor()(x).squeeze(),\n",
    "                    transforms.ToTensor()(y).squeeze()))\n",
    "                    for (x,y) in zip(im_c1s, im_c2s)]\n",
    "\n",
    "    ims = [norm(im) for im in ims]\n",
    "    ims = torch.stack(ims)\n",
    "\n",
    "    labels = [(transforms.ToTensor()(label).squeeze()) for label in labels]\n",
    "    labels = torch.stack(labels)\n",
    "  \n",
    "    if torch.sum(labels.gt(.003) * labels.lt(.004)):\n",
    "        labels *= 255\n",
    "    #labels = labels.round()\n",
    "  \n",
    "    return ims, labels"
   ]
  },
  {
   "cell_type": "code",
   "execution_count": 3,
   "id": "a6b5a4ca",
   "metadata": {},
   "outputs": [],
   "source": [
    "def getArrFlood(fname):\n",
    "    return rasterio.open(fname).read()\n",
    "\n",
    "def download_flood_water_data_from_list(l):\n",
    "    i = 0\n",
    "    tot_nan = 0\n",
    "    tot_good = 0\n",
    "    flood_data = []\n",
    "    for (im_fname, mask_fname) in l:\n",
    "        if not os.path.exists(os.path.join(\"files/\", im_fname)):\n",
    "            continue\n",
    "        arr_x = np.nan_to_num(getArrFlood(os.path.join(\"files/\", im_fname)))\n",
    "        arr_y = getArrFlood(os.path.join(\"files/\", mask_fname))\n",
    "        arr_y[arr_y == -1] = 255 \n",
    "\n",
    "        arr_x = np.clip(arr_x, -50, 1)\n",
    "        arr_x = (arr_x + 50) / 51\n",
    "\n",
    "        if i % 100 == 0:\n",
    "              print(im_fname, mask_fname)\n",
    "        i += 1\n",
    "        flood_data.append((arr_x,arr_y))\n",
    "\n",
    "    return flood_data\n",
    "\n",
    "def load_flood_train_data(input_root, label_root):\n",
    "    fname = \"/nfs/kloe/einstein4/martino/WQeMS/flood_train_data.csv\"\n",
    "    training_files = []\n",
    "    with open(fname) as f:\n",
    "        for line in csv.reader(f):\n",
    "            training_files.append(tuple((input_root+line[0], label_root+line[1])))\n",
    "\n",
    "    return download_flood_water_data_from_list(training_files)\n",
    "\n",
    "def load_flood_valid_data(input_root, label_root):\n",
    "    fname = \"/nfs/kloe/einstein4/martino/WQeMS/flood_valid_data.csv\"\n",
    "    validation_files = []\n",
    "    with open(fname) as f:\n",
    "        for line in csv.reader(f):\n",
    "            validation_files.append(tuple((input_root+line[0], label_root+line[1])))\n",
    "\n",
    "    return download_flood_water_data_from_list(validation_files)\n",
    "\n",
    "def load_flood_test_data(input_root, label_root):\n",
    "    fname = \"/nfs/kloe/einstein4/martino/WQeMS/flood_test_data.csv\"\n",
    "    testing_files = []\n",
    "    with open(fname) as f:\n",
    "        for line in csv.reader(f):\n",
    "            testing_files.append(tuple((input_root+line[0], label_root+line[1])))\n",
    "\n",
    "    return download_flood_water_data_from_list(testing_files)"
   ]
  },
  {
   "cell_type": "code",
   "execution_count": 4,
   "id": "b29be32d",
   "metadata": {},
   "outputs": [],
   "source": [
    "def f(y):\n",
    "    a=0\n",
    "    b=0\n",
    "    cons_idx_list=list()\n",
    "    for i in 1+np.arange(len(y)-1):\n",
    "        if (y[i]-y[i-1]==0 or y[i]-y[i-1]==1):\n",
    "            #a=cons_b_idx[i-1]\n",
    "            b=i\n",
    "            if i==len(y)-1:\n",
    "                x=np.intersect1d(np.arange(a,b+1),np.where(y!=255)[0])\n",
    "                if len(x)>0:\n",
    "                    cons_idx_list.append(x)\n",
    "        else:\n",
    "            x=np.intersect1d(np.arange(a,b+1),np.where(y!=255)[0])\n",
    "            if len(x)>0:\n",
    "                cons_idx_list.append(x)\n",
    "            a=i\n",
    "        #print(i)\n",
    "    return cons_idx_list\n",
    "\n",
    "    #print(i,a,b)"
   ]
  },
  {
   "cell_type": "code",
   "execution_count": 5,
   "id": "89f677dd",
   "metadata": {},
   "outputs": [],
   "source": [
    "#t_size=252\n",
    "min_tlenght_cut=2"
   ]
  },
  {
   "cell_type": "code",
   "execution_count": 89,
   "id": "dadd7b21",
   "metadata": {},
   "outputs": [],
   "source": [
    "def get_timeseries_train(dataset):\n",
    "    y_list=list()\n",
    "    hoty_list=list()\n",
    "    #ch_0_list=list()\n",
    "    #ch_1_list=list()\n",
    "    data=list()\n",
    "    counter=0\n",
    "    \n",
    "    t_size=len(dataset[:])\n",
    "    for i in np.arange(256):\n",
    "        for j in np.arange(256):\n",
    "            if counter==10000:\n",
    "                break\n",
    "            #j=100\n",
    "            ch_0=list()\n",
    "            ch_1=list()\n",
    "            y=list()\n",
    "            for t in np.arange(t_size):#len(train_data)):\n",
    "                ch_0.append(float(dataset[t][0][0][i,j]))\n",
    "                ch_1.append(float(dataset[t][0][1][i,j]))\n",
    "                y.append(int(dataset[t][1][i,j]))\n",
    "\n",
    "            ch_0=np.array(ch_0)\n",
    "            ch_1=np.array(ch_1)    \n",
    "            y=np.array(y)\n",
    "\n",
    "\n",
    "            idx=f(y)\n",
    "            for k in np.arange(len(idx)):\n",
    "                y_list.append(np.array(y[idx[k]]))\n",
    "                if 1 in y[idx[k]]:\n",
    "                    hoty_list.append([1])\n",
    "                else:\n",
    "                    hoty_list.append([0])\n",
    "                #ch_0_list.append(np.array(ch_0[idx[k]]))\n",
    "                #ch_1_list.append(np.array(ch_1[idx[k]]))\n",
    "                data.append(np.array([np.array(ch_0[idx[k]]),np.array(ch_1[idx[k]])]).reshape(2,len(idx[k])))\n",
    "            counter+=1\n",
    "            if (counter)%1000==0:\n",
    "                print(counter/256**2,len(y_list))\n",
    "        #print(len(y_list))\n",
    "    return data,y_list\n",
    "\n",
    "def get_timeseries_test(dataset):\n",
    "    y_list=list()\n",
    "    hoty_list=list()\n",
    "    #ch_0_list=list()\n",
    "    #ch_1_list=list()\n",
    "    data=list()\n",
    "    counter=0\n",
    "    \n",
    "    t_size=len(dataset[:])\n",
    "    for i in np.arange(256):\n",
    "        for j in np.arange(256):\n",
    "            if counter==10000:\n",
    "                break\n",
    "            #j=100\n",
    "            ch_0=list()\n",
    "            ch_1=list()\n",
    "            y=list()\n",
    "            for t in np.arange(t_size):#len(train_data)):\n",
    "                ch_0.append(float(dataset[t][0][0][0][i,j]))\n",
    "                ch_1.append(float(dataset[t][0][0][1][i,j]))\n",
    "                y.append(int(dataset[t][1][0][i,j]))\n",
    "\n",
    "            ch_0=np.array(ch_0)\n",
    "            ch_1=np.array(ch_1)    \n",
    "            y=np.array(y)\n",
    "\n",
    "\n",
    "            idx=f(y)\n",
    "            for k in np.arange(len(idx)):\n",
    "                y_list.append(np.array(y[idx[k]]))\n",
    "                if 1 in y[idx[k]]:\n",
    "                    hoty_list.append([1])\n",
    "                else:\n",
    "                    hoty_list.append([0])\n",
    "                #ch_0_list.append(np.array(ch_0[idx[k]]))\n",
    "                #ch_1_list.append(np.array(ch_1[idx[k]]))\n",
    "                data.append(np.array([np.array(ch_0[idx[k]]),np.array(ch_1[idx[k]])]).reshape(2,len(idx[k])))\n",
    "            counter+=1\n",
    "            if (counter)%1000==0:\n",
    "                print(counter/256**2,len(y_list))\n",
    "        #print(len(y_list))\n",
    "    return data,y_list"
   ]
  },
  {
   "cell_type": "code",
   "execution_count": 7,
   "id": "62284355",
   "metadata": {},
   "outputs": [],
   "source": [
    "def get_rawtimeseries(dataset):\n",
    "    y_list=list()\n",
    "    hoty_list=list()\n",
    "    #ch_0_list=list()\n",
    "    #ch_1_list=list()\n",
    "    data=list()\n",
    "    counter=0\n",
    "    \n",
    "    t_size=len(dataset[:])\n",
    "    for i in np.arange(256):\n",
    "        for j in np.arange(256):\n",
    "            if counter==10000:\n",
    "                break\n",
    "            #j=100\n",
    "            ch_0=list()\n",
    "            ch_1=list()\n",
    "            y=list()\n",
    "            for t in np.arange(t_size):#len(train_data)):\n",
    "                ch_0.append(float(dataset[t][0][0][i,j]))\n",
    "                ch_1.append(float(dataset[t][0][1][i,j]))\n",
    "                y.append(int(dataset[t][1][0][i,j]))\n",
    "\n",
    "            ch_0=np.array(ch_0)\n",
    "            ch_1=np.array(ch_1)    \n",
    "            y=np.array(y)\n",
    "\n",
    "\n",
    "            idx=f(y)\n",
    "            for k in np.arange(len(idx)):\n",
    "                y_list.append(np.array(y[idx[k]]))\n",
    "                if 1 in y[idx[k]]:\n",
    "                    hoty_list.append([1])\n",
    "                else:\n",
    "                    hoty_list.append([0])\n",
    "                #ch_0_list.append(np.array(ch_0[idx[k]]))\n",
    "                #ch_1_list.append(np.array(ch_1[idx[k]]))\n",
    "                data.append(np.array([np.array(ch_0[idx[k]]),np.array(ch_1[idx[k]])]).reshape(2,len(idx[k])))\n",
    "            counter+=1\n",
    "            if (counter)%1000==0:\n",
    "                print(counter/256**2,len(y_list))\n",
    "        #print(len(y_list))\n",
    "    return data,y_list"
   ]
  },
  {
   "cell_type": "code",
   "execution_count": 8,
   "id": "80bd5896",
   "metadata": {},
   "outputs": [],
   "source": [
    "def create_dataset(data,y_list):\n",
    "    selected_signal_idx=list()\n",
    "    selected_bkg_idx=list()\n",
    "    for k in np.arange(len(y_list)):\n",
    "        if y_list[k].sum()>min_tlenght_cut:\n",
    "            selected_signal_idx.append(k)\n",
    "        if y_list[k].sum()==0 and len(y_list[k])>min_tlenght_cut:\n",
    "            selected_bkg_idx.append(k)\n",
    "    selected_signal_idx=np.array(selected_signal_idx)\n",
    "    selected_bkg_idx=np.array(selected_bkg_idx)\n",
    "    \n",
    "    selected_signal_mask=np.zeros(len(y_list),dtype=bool)\n",
    "    selected_bkg_mask=np.zeros(len(y_list),dtype=bool)\n",
    "    for k in selected_signal_idx:\n",
    "            selected_signal_mask[k]=True\n",
    "    for k in selected_bkg_idx:\n",
    "            selected_bkg_mask[k]=True\n",
    "\n",
    "    selected_data_sig=list(compress(data, selected_signal_mask))\n",
    "    selected_data_bkg=list(compress(data, selected_bkg_mask))\n",
    "    selected_y_sig=list(compress(y_list,selected_signal_mask))\n",
    "    selected_y_bkg=list(compress(y_list,selected_bkg_mask))\n",
    "\n",
    "    selected_data=selected_data_sig+selected_data_bkg\n",
    "    #selected_data.append(selected_data_bkg)\n",
    "    selected_y=np.ones(len(selected_data_sig))\n",
    "    selected_y=np.append(selected_y,np.zeros(len(selected_data_bkg)))\n",
    "\n",
    "    print('data size:',len(selected_data),len(selected_y))\n",
    "\n",
    "    c = list(zip(selected_data, selected_y))\n",
    "\n",
    "    random.shuffle(c)\n",
    "\n",
    "    selected_data, selected_y = zip(*c)\n",
    "    selected_y=np.array(selected_y)\n",
    "    \n",
    "    return selected_data, selected_y"
   ]
  },
  {
   "cell_type": "code",
   "execution_count": 96,
   "id": "6f2de58f",
   "metadata": {},
   "outputs": [],
   "source": [
    "def reorder_ragged_data(selected_data,selected_y):\n",
    "    \n",
    "    l=list([])\n",
    "    size=len(selected_y)\n",
    "    print(size)\n",
    "    for k in np.arange(size):\n",
    "        l.append(selected_data[k].shape[1])\n",
    "\n",
    "    max_tlenght=max(l)\n",
    "    ragged_data=list()\n",
    "    ragged_y=list()\n",
    "    recurrence=list()\n",
    "    for s in np.arange(min_tlenght_cut+1,max_tlenght):\n",
    "        count=0\n",
    "        sel_data_tmp=list()\n",
    "        sel_y_tmp=list()\n",
    "        for k in np.arange(selected_y.shape[0]):\n",
    "            if selected_data[k][0].shape[0]==s:\n",
    "                #print(count)\n",
    "                sel_data_tmp.append(selected_data[k].T)\n",
    "                sel_y_tmp.append(selected_y[k])\n",
    "                count+=1\n",
    "        recurrence.append(count)\n",
    "        sel_data_tmp=np.array(sel_data_tmp)\n",
    "        sel_y_tmp=np.array(sel_y_tmp)\n",
    "\n",
    "        ragged_data.append(sel_data_tmp)\n",
    "        ragged_y.append(sel_y_tmp)\n",
    "    return ragged_data,ragged_y,max_tlenght\n",
    "\n",
    "\n",
    "\n",
    "def reorder_split_data(selected_data,selected_y):\n",
    "\n",
    "    ragged_data,ragged_y,max_tlenght=reorder_ragged_data(selected_data,selected_y)\n",
    "    \n",
    "    sel_data_flatten_ch0_sig=list()\n",
    "    sel_data_flatten_ch1_sig=list()\n",
    "    sel_data_flatten_ch0_bkg=list()\n",
    "    sel_data_flatten_ch1_bkg=list()\n",
    "    for k in np.arange(max_tlenght-min_tlenght_cut-1):\n",
    "        #print(k)\n",
    "        sel_data_flatten_ch0_sig.append(ragged_data[k][ragged_y[k]==1,:,0].flatten())\n",
    "        sel_data_flatten_ch1_sig.append(ragged_data[k][ragged_y[k]==1,:,1].flatten())\n",
    "        sel_data_flatten_ch0_bkg.append(ragged_data[k][ragged_y[k]==0,:,0].flatten())\n",
    "        sel_data_flatten_ch1_bkg.append(ragged_data[k][ragged_y[k]==0,:,1].flatten())\n",
    "\n",
    "    sel_data_flatten_ch0_sig=np.concatenate(sel_data_flatten_ch0_sig).ravel()\n",
    "    sel_data_flatten_ch1_sig=np.concatenate(sel_data_flatten_ch1_sig).ravel()\n",
    "    sel_data_flatten_ch0_bkg=np.concatenate(sel_data_flatten_ch0_bkg).ravel()\n",
    "    sel_data_flatten_ch1_bkg=np.concatenate(sel_data_flatten_ch1_bkg).ravel()\n",
    "    return sel_data_flatten_ch0_sig,sel_data_flatten_ch1_sig,sel_data_flatten_ch0_bkg,sel_data_flatten_ch1_bkg"
   ]
  },
  {
   "cell_type": "code",
   "execution_count": 24,
   "id": "904b53cb",
   "metadata": {},
   "outputs": [
    {
     "name": "stdout",
     "output_type": "stream",
     "text": [
      "/nfs/kloe/einstein4/martino/WQeMS/v1.1/data/flood_events/HandLabeled/S1Hand/Ghana_103272_S1Hand.tif /nfs/kloe/einstein4/martino/WQeMS/v1.1/data/flood_events/HandLabeled/LabelHand/Ghana_103272_LabelHand.tif\n",
      "/nfs/kloe/einstein4/martino/WQeMS/v1.1/data/flood_events/HandLabeled/S1Hand/Pakistan_132143_S1Hand.tif /nfs/kloe/einstein4/martino/WQeMS/v1.1/data/flood_events/HandLabeled/LabelHand/Pakistan_132143_LabelHand.tif\n",
      "/nfs/kloe/einstein4/martino/WQeMS/v1.1/data/flood_events/HandLabeled/S1Hand/Sri-Lanka_916628_S1Hand.tif /nfs/kloe/einstein4/martino/WQeMS/v1.1/data/flood_events/HandLabeled/LabelHand/Sri-Lanka_916628_LabelHand.tif\n"
     ]
    }
   ],
   "source": [
    "train_data = load_flood_train_data('/nfs/kloe/einstein4/martino/WQeMS/v1.1/data/flood_events/HandLabeled/S1Hand/', '/nfs/kloe/einstein4/martino/WQeMS/v1.1/data/flood_events/HandLabeled/LabelHand/')"
   ]
  },
  {
   "cell_type": "code",
   "execution_count": 10,
   "id": "91ef9865",
   "metadata": {},
   "outputs": [
    {
     "name": "stdout",
     "output_type": "stream",
     "text": [
      "/nfs/kloe/einstein4/martino/WQeMS/v1.1/data/flood_events/HandLabeled/S1Hand/Ghana_313799_S1Hand.tif /nfs/kloe/einstein4/martino/WQeMS/v1.1/data/flood_events/HandLabeled/LabelHand/Ghana_313799_LabelHand.tif\n"
     ]
    }
   ],
   "source": [
    "test_data = load_flood_test_data('/nfs/kloe/einstein4/martino/WQeMS/v1.1/data/flood_events/HandLabeled/S1Hand/', '/nfs/kloe/einstein4/martino/WQeMS/v1.1/data/flood_events/HandLabeled/LabelHand/')"
   ]
  },
  {
   "cell_type": "code",
   "execution_count": 33,
   "id": "3600dbfc",
   "metadata": {},
   "outputs": [
    {
     "data": {
      "text/plain": [
       "(90, 252)"
      ]
     },
     "execution_count": 33,
     "metadata": {},
     "output_type": "execute_result"
    }
   ],
   "source": [
    "len(test_data[:]),len(train_data[:])"
   ]
  },
  {
   "cell_type": "code",
   "execution_count": 24,
   "id": "2305983c",
   "metadata": {},
   "outputs": [
    {
     "name": "stdout",
     "output_type": "stream",
     "text": [
      "0.0152587890625 38391\n",
      "0.030517578125 76878\n",
      "0.0457763671875 115359\n",
      "0.06103515625 153422\n",
      "0.0762939453125 191628\n",
      "0.091552734375 230021\n",
      "0.1068115234375 268421\n",
      "0.1220703125 306838\n",
      "0.1373291015625 345435\n",
      "0.152587890625 383779\n"
     ]
    }
   ],
   "source": [
    "data_raw,y_list_raw = get_rawtimeseries(train_data)"
   ]
  },
  {
   "cell_type": "code",
   "execution_count": 27,
   "id": "c5118299",
   "metadata": {},
   "outputs": [
    {
     "name": "stdout",
     "output_type": "stream",
     "text": [
      "data size: 154188 154188\n"
     ]
    }
   ],
   "source": [
    "selected_raw_data, selected_raw_y = create_dataset(data_raw,y_list_raw)"
   ]
  },
  {
   "cell_type": "code",
   "execution_count": 63,
   "id": "4aaa88ab",
   "metadata": {},
   "outputs": [],
   "source": [
    "sel_data_flatten_ch0_sig_raw,sel_data_flatten_ch1_sig_raw,sel_data_flatten_ch0_bkg_raw,sel_data_flatten_ch1_bkg_raw = reorder_split_data(selected_raw_data,selected_raw_y)\n"
   ]
  },
  {
   "cell_type": "code",
   "execution_count": 58,
   "id": "fe0610d9",
   "metadata": {},
   "outputs": [],
   "source": [
    "test_dataset=list()\n",
    "for t in np.arange(len(test_data)):\n",
    "#    test_dataset.append(processAndAugment(test_data[t]))\n",
    "    test_dataset.append(processTestIm(test_data[t]))"
   ]
  },
  {
   "cell_type": "code",
   "execution_count": 90,
   "id": "ce380e98",
   "metadata": {},
   "outputs": [
    {
     "name": "stdout",
     "output_type": "stream",
     "text": [
      "0.0152587890625 14205\n",
      "0.030517578125 28000\n",
      "0.0457763671875 41823\n",
      "0.06103515625 55969\n",
      "0.0762939453125 70273\n",
      "0.091552734375 84862\n",
      "0.1068115234375 99399\n",
      "0.1220703125 113820\n",
      "0.1373291015625 128313\n",
      "0.152587890625 143264\n"
     ]
    }
   ],
   "source": [
    "test_data_raw,test_y_list_raw = get_timeseries_test(test_dataset)"
   ]
  },
  {
   "cell_type": "code",
   "execution_count": 91,
   "id": "4e5e6e82",
   "metadata": {},
   "outputs": [
    {
     "name": "stdout",
     "output_type": "stream",
     "text": [
      "data size: 63254 63254\n"
     ]
    }
   ],
   "source": [
    "selected_raw_test_data, selected_raw_test_y = create_dataset(test_data_raw,test_y_list_raw)"
   ]
  },
  {
   "cell_type": "code",
   "execution_count": 92,
   "id": "f6245d64",
   "metadata": {},
   "outputs": [
    {
     "name": "stdout",
     "output_type": "stream",
     "text": [
      "63254\n"
     ]
    }
   ],
   "source": [
    "ragged_test_data,ragged_test_y,t_max = reorder_ragged_data(selected_raw_test_data, selected_raw_test_y)\n"
   ]
  },
  {
   "cell_type": "code",
   "execution_count": 98,
   "id": "0a7b4af4",
   "metadata": {},
   "outputs": [
    {
     "name": "stdout",
     "output_type": "stream",
     "text": [
      "63254\n"
     ]
    }
   ],
   "source": [
    "ch0_sig,ch1_sig,ch0_bkg,ch1_bkg=reorder_split_data(selected_raw_test_data, selected_raw_test_y)"
   ]
  },
  {
   "cell_type": "code",
   "execution_count": 99,
   "id": "7b377e79",
   "metadata": {},
   "outputs": [
    {
     "data": {
      "image/png": "[encoded data removed]",
      "text/plain": [
       "<Figure size 432x288 with 1 Axes>"
      ]
     },
     "metadata": {
      "needs_background": "light"
     },
     "output_type": "display_data"
    },
    {
     "data": {
      "image/png": "[encoded data removed]",
      "text/plain": [
       "<Figure size 432x288 with 1 Axes>"
      ]
     },
     "metadata": {
      "needs_background": "light"
     },
     "output_type": "display_data"
    }
   ],
   "source": [
    "plt.hist(ch0_sig,bins=100,histtype='step',label='sig - ch 0')\n",
    "plt.hist(ch0_bkg,bins=100,histtype='step',label='bkg - ch 0')\n",
    "plt.yscale('log')\n",
    "plt.legend()\n",
    "plt.show()\n",
    "plt.hist(ch1_sig,bins=100,histtype='step',label='sig - ch 1')\n",
    "plt.hist(ch1_bkg,bins=100,histtype='step',label='bkg - ch 1')\n",
    "plt.yscale('log')\n",
    "plt.legend()\n",
    "plt.show()"
   ]
  },
  {
   "cell_type": "code",
   "execution_count": 11,
   "id": "0cedf43e",
   "metadata": {},
   "outputs": [],
   "source": [
    "train_dataset=list()\n",
    "for t in np.arange(len(train_data)):\n",
    "    train_dataset.append(processAndAugment(train_data[t]))"
   ]
  },
  {
   "cell_type": "code",
   "execution_count": 12,
   "id": "c115efbc",
   "metadata": {},
   "outputs": [
    {
     "name": "stdout",
     "output_type": "stream",
     "text": [
      "0.0152587890625 34292\n",
      "0.030517578125 68276\n",
      "0.0457763671875 101608\n",
      "0.06103515625 135347\n",
      "0.0762939453125 169199\n",
      "0.091552734375 203234\n",
      "0.1068115234375 237334\n",
      "0.1220703125 271467\n",
      "0.1373291015625 304852\n",
      "0.152587890625 337719\n"
     ]
    }
   ],
   "source": [
    "data_preprocessed, y_list = get_timeseries_train(train_dataset)"
   ]
  },
  {
   "cell_type": "code",
   "execution_count": 13,
   "id": "cb71df7a",
   "metadata": {},
   "outputs": [
    {
     "name": "stdout",
     "output_type": "stream",
     "text": [
      "data size: 152823 152823\n"
     ]
    }
   ],
   "source": [
    "selected_data, selected_y = create_dataset(data_preprocessed, y_list)"
   ]
  },
  {
   "cell_type": "code",
   "execution_count": 14,
   "id": "7dc3cedb",
   "metadata": {
    "collapsed": true
   },
   "outputs": [
    {
     "name": "stdout",
     "output_type": "stream",
     "text": [
      "0\n",
      "1\n",
      "2\n",
      "3\n",
      "4\n",
      "5\n",
      "6\n",
      "7\n",
      "8\n",
      "9\n",
      "10\n",
      "11\n",
      "12\n",
      "13\n",
      "14\n",
      "15\n",
      "16\n",
      "17\n",
      "18\n",
      "19\n",
      "20\n"
     ]
    }
   ],
   "source": [
    "sel_data_flatten_ch0_sig,sel_data_flatten_ch1_sig,sel_data_flatten_ch0_bkg,sel_data_flatten_ch1_bkg = reorder_split_data(selected_data,selected_y)\n"
   ]
  },
  {
   "cell_type": "code",
   "execution_count": 15,
   "id": "ea3e7b5b",
   "metadata": {},
   "outputs": [
    {
     "data": {
      "image/png": "[encoded data removed]",
      "text/plain": [
       "<Figure size 432x288 with 1 Axes>"
      ]
     },
     "metadata": {
      "needs_background": "light"
     },
     "output_type": "display_data"
    },
    {
     "data": {
      "image/png": "[encoded data removed]",
      "text/plain": [
       "<Figure size 432x288 with 1 Axes>"
      ]
     },
     "metadata": {
      "needs_background": "light"
     },
     "output_type": "display_data"
    }
   ],
   "source": [
    "plt.hist(sel_data_flatten_ch0_sig,bins=100,histtype='step',label='sig - ch 0')\n",
    "plt.hist(sel_data_flatten_ch0_bkg,bins=100,histtype='step',label='bkg - ch 0')\n",
    "plt.yscale('log')\n",
    "plt.legend()\n",
    "plt.show()\n",
    "plt.hist(sel_data_flatten_ch1_sig,bins=100,histtype='step',label='sig - ch 1')\n",
    "plt.hist(sel_data_flatten_ch1_bkg,bins=100,histtype='step',label='bkg - ch 1')\n",
    "plt.yscale('log')\n",
    "plt.legend()\n",
    "plt.show()"
   ]
  },
  {
   "cell_type": "code",
   "execution_count": 10,
   "id": "5bd9935f",
   "metadata": {},
   "outputs": [],
   "source": [
    "import pickle\n",
    "import os\n",
    "\n",
    "path='/afs/le.infn.it/user/c/centonze/WQeMS/dataset_log/'\n",
    "directory=path+'data'"
   ]
  },
  {
   "cell_type": "code",
   "execution_count": 16,
   "id": "c2fcc3bf",
   "metadata": {},
   "outputs": [],
   "source": [
    "if not os.path.exists(path):\n",
    "    os.makedirs(path)\n",
    "    \n",
    "with open(path+'data', \"wb\") as fp:   #Pickling\n",
    "    pickle.dump(data, fp)"
   ]
  },
  {
   "cell_type": "code",
   "execution_count": 17,
   "id": "fb95d2a3",
   "metadata": {},
   "outputs": [],
   "source": [
    "y=np.array(hoty_list)\n",
    "with open(path+'labels', \"wb\") as labs:   #Pickling\n",
    "    pickle.dump(y, labs)"
   ]
  },
  {
   "cell_type": "code",
   "execution_count": 18,
   "id": "7571acf2",
   "metadata": {},
   "outputs": [],
   "source": [
    "with open(path+'labels_complete', \"wb\") as labs:   #Pickling\n",
    "    pickle.dump(y_list, labs)"
   ]
  },
  {
   "cell_type": "code",
   "execution_count": 32,
   "id": "108adb27",
   "metadata": {},
   "outputs": [],
   "source": []
  },
  {
   "cell_type": "code",
   "execution_count": null,
   "id": "567125db",
   "metadata": {},
   "outputs": [],
   "source": []
  },
  {
   "cell_type": "code",
   "execution_count": null,
   "id": "4b1c409f",
   "metadata": {},
   "outputs": [],
   "source": []
  },
  {
   "cell_type": "code",
   "execution_count": 40,
   "id": "b3ad9e6a",
   "metadata": {},
   "outputs": [
    {
     "data": {
      "image/png": "[encoded data removed]",
      "text/plain": [
       "<Figure size 432x288 with 1 Axes>"
      ]
     },
     "metadata": {
      "needs_background": "light"
     },
     "output_type": "display_data"
    },
    {
     "data": {
      "image/png": "[encoded data removed]",
      "text/plain": [
       "<Figure size 432x288 with 1 Axes>"
      ]
     },
     "metadata": {
      "needs_background": "light"
     },
     "output_type": "display_data"
    }
   ],
   "source": [
    "k=2\n",
    "plt.plot(np.arange(selected_data_sig[k][0].shape[0]),selected_data_sig[k][0],label='ch 0')\n",
    "plt.plot(np.arange(selected_data_sig[k][0].shape[0]),selected_data_sig[k][1],label='ch 1')\n",
    "plt.legend()\n",
    "plt.show()\n",
    "\n",
    "plt.plot(np.arange(selected_data_sig[k][0].shape[0]),selected_y_sig[k],label='y')\n",
    "plt.show()"
   ]
  },
  {
   "cell_type": "code",
   "execution_count": 41,
   "id": "3ec1f52c",
   "metadata": {},
   "outputs": [],
   "source": []
  },
  {
   "cell_type": "code",
   "execution_count": 42,
   "id": "54b95b5a",
   "metadata": {},
   "outputs": [],
   "source": [
    "#list(compress(selected_data,selected_y==1))[0]\n",
    "\n",
    "with open(path+'selected_data_2', \"wb\") as s_data:   #Pickling\n",
    "    pickle.dump(selected_data, s_data)\n",
    "    \n",
    "with open(path+'selected_y_2', \"wb\") as s_y:   #Pickling\n",
    "    pickle.dump(selected_y, s_y)"
   ]
  },
  {
   "cell_type": "code",
   "execution_count": 43,
   "id": "c672437c",
   "metadata": {},
   "outputs": [
    {
     "data": {
      "image/png": "[encoded data removed]",
      "text/plain": [
       "<Figure size 432x288 with 1 Axes>"
      ]
     },
     "metadata": {
      "needs_background": "light"
     },
     "output_type": "display_data"
    }
   ],
   "source": [
    "k=1\n",
    "plt.plot(np.arange(list(compress(selected_data,selected_y==1))[0][0].shape[0]),list(compress(selected_data,selected_y==1))[0][0],label='ch 0')\n",
    "plt.plot(np.arange(list(compress(selected_data,selected_y==1))[0][0].shape[0]),list(compress(selected_data,selected_y==1))[0][1],label='ch 1')\n",
    "plt.legend()\n",
    "plt.show()\n",
    "\n",
    "#plt.plot(np.arange(selected_data_bkg[k][0].shape[0]),selected_y_bkg[k],label='y')\n",
    "#plt.show()"
   ]
  },
  {
   "cell_type": "code",
   "execution_count": null,
   "id": "91caaf4d",
   "metadata": {},
   "outputs": [],
   "source": []
  },
  {
   "cell_type": "code",
   "execution_count": null,
   "id": "9b7af35c",
   "metadata": {},
   "outputs": [],
   "source": []
  },
  {
   "cell_type": "code",
   "execution_count": 26,
   "id": "e991497a",
   "metadata": {},
   "outputs": [],
   "source": []
  },
  {
   "cell_type": "code",
   "execution_count": 48,
   "id": "79858120",
   "metadata": {
    "collapsed": true
   },
   "outputs": [
    {
     "name": "stdout",
     "output_type": "stream",
     "text": [
      "lenght: 5 sig fraction: 0.041705654324288195\n"
     ]
    },
    {
     "ename": "ValueError",
     "evalue": "supplied range of [-inf, 0.0] is not finite",
     "output_type": "error",
     "traceback": [
      "\u001b[0;31m---------------------------------------------------------------------------\u001b[0m",
      "\u001b[0;31mValueError\u001b[0m                                Traceback (most recent call last)",
      "Input \u001b[0;32mIn [48]\u001b[0m, in \u001b[0;36m<cell line: 4>\u001b[0;34m()\u001b[0m\n\u001b[1;32m      2\u001b[0m \u001b[38;5;28mprint\u001b[39m(\u001b[38;5;124m'\u001b[39m\u001b[38;5;124mlenght:\u001b[39m\u001b[38;5;124m'\u001b[39m, k\u001b[38;5;241m+\u001b[39m\u001b[38;5;241m3\u001b[39m,\u001b[38;5;124m'\u001b[39m\u001b[38;5;124msig fraction:\u001b[39m\u001b[38;5;124m'\u001b[39m,np\u001b[38;5;241m.\u001b[39mwhere(ragged_y[k]\u001b[38;5;241m==\u001b[39m\u001b[38;5;241m1\u001b[39m)[\u001b[38;5;241m0\u001b[39m]\u001b[38;5;241m.\u001b[39mshape[\u001b[38;5;241m0\u001b[39m]\u001b[38;5;241m/\u001b[39mragged_y[k]\u001b[38;5;241m.\u001b[39mshape[\u001b[38;5;241m0\u001b[39m])\n\u001b[1;32m      3\u001b[0m plt\u001b[38;5;241m.\u001b[39mhist(ragged_data[k][ragged_y[k]\u001b[38;5;241m==\u001b[39m\u001b[38;5;241m1\u001b[39m,:,\u001b[38;5;241m0\u001b[39m]\u001b[38;5;241m.\u001b[39mflatten(),bins\u001b[38;5;241m=\u001b[39m\u001b[38;5;241m100\u001b[39m,histtype\u001b[38;5;241m=\u001b[39m\u001b[38;5;124m'\u001b[39m\u001b[38;5;124mstep\u001b[39m\u001b[38;5;124m'\u001b[39m,label\u001b[38;5;241m=\u001b[39m\u001b[38;5;124m'\u001b[39m\u001b[38;5;124msig - ch 0\u001b[39m\u001b[38;5;124m'\u001b[39m)\n\u001b[0;32m----> 4\u001b[0m \u001b[43mplt\u001b[49m\u001b[38;5;241;43m.\u001b[39;49m\u001b[43mhist\u001b[49m\u001b[43m(\u001b[49m\u001b[43mragged_data\u001b[49m\u001b[43m[\u001b[49m\u001b[43mk\u001b[49m\u001b[43m]\u001b[49m\u001b[43m[\u001b[49m\u001b[43mragged_y\u001b[49m\u001b[43m[\u001b[49m\u001b[43mk\u001b[49m\u001b[43m]\u001b[49m\u001b[38;5;241;43m==\u001b[39;49m\u001b[38;5;241;43m0\u001b[39;49m\u001b[43m,\u001b[49m\u001b[43m:\u001b[49m\u001b[43m,\u001b[49m\u001b[38;5;241;43m0\u001b[39;49m\u001b[43m]\u001b[49m\u001b[38;5;241;43m.\u001b[39;49m\u001b[43mflatten\u001b[49m\u001b[43m(\u001b[49m\u001b[43m)\u001b[49m\u001b[43m,\u001b[49m\u001b[43mbins\u001b[49m\u001b[38;5;241;43m=\u001b[39;49m\u001b[38;5;241;43m100\u001b[39;49m\u001b[43m,\u001b[49m\u001b[43mhisttype\u001b[49m\u001b[38;5;241;43m=\u001b[39;49m\u001b[38;5;124;43m'\u001b[39;49m\u001b[38;5;124;43mstep\u001b[39;49m\u001b[38;5;124;43m'\u001b[39;49m\u001b[43m,\u001b[49m\u001b[43mlabel\u001b[49m\u001b[38;5;241;43m=\u001b[39;49m\u001b[38;5;124;43m'\u001b[39;49m\u001b[38;5;124;43mbkg - ch 0\u001b[39;49m\u001b[38;5;124;43m'\u001b[39;49m\u001b[43m)\u001b[49m\n\u001b[1;32m      5\u001b[0m plt\u001b[38;5;241m.\u001b[39myscale(\u001b[38;5;124m'\u001b[39m\u001b[38;5;124mlog\u001b[39m\u001b[38;5;124m'\u001b[39m)\n\u001b[1;32m      6\u001b[0m plt\u001b[38;5;241m.\u001b[39mlegend()\n",
      "File \u001b[0;32m~/miniconda3/envs/pytorch_env/lib/python3.9/site-packages/matplotlib/pyplot.py:2590\u001b[0m, in \u001b[0;36mhist\u001b[0;34m(x, bins, range, density, weights, cumulative, bottom, histtype, align, orientation, rwidth, log, color, label, stacked, data, **kwargs)\u001b[0m\n\u001b[1;32m   2584\u001b[0m \u001b[38;5;129m@_copy_docstring_and_deprecators\u001b[39m(Axes\u001b[38;5;241m.\u001b[39mhist)\n\u001b[1;32m   2585\u001b[0m \u001b[38;5;28;01mdef\u001b[39;00m \u001b[38;5;21mhist\u001b[39m(\n\u001b[1;32m   2586\u001b[0m         x, bins\u001b[38;5;241m=\u001b[39m\u001b[38;5;28;01mNone\u001b[39;00m, \u001b[38;5;28mrange\u001b[39m\u001b[38;5;241m=\u001b[39m\u001b[38;5;28;01mNone\u001b[39;00m, density\u001b[38;5;241m=\u001b[39m\u001b[38;5;28;01mFalse\u001b[39;00m, weights\u001b[38;5;241m=\u001b[39m\u001b[38;5;28;01mNone\u001b[39;00m,\n\u001b[1;32m   2587\u001b[0m         cumulative\u001b[38;5;241m=\u001b[39m\u001b[38;5;28;01mFalse\u001b[39;00m, bottom\u001b[38;5;241m=\u001b[39m\u001b[38;5;28;01mNone\u001b[39;00m, histtype\u001b[38;5;241m=\u001b[39m\u001b[38;5;124m'\u001b[39m\u001b[38;5;124mbar\u001b[39m\u001b[38;5;124m'\u001b[39m, align\u001b[38;5;241m=\u001b[39m\u001b[38;5;124m'\u001b[39m\u001b[38;5;124mmid\u001b[39m\u001b[38;5;124m'\u001b[39m,\n\u001b[1;32m   2588\u001b[0m         orientation\u001b[38;5;241m=\u001b[39m\u001b[38;5;124m'\u001b[39m\u001b[38;5;124mvertical\u001b[39m\u001b[38;5;124m'\u001b[39m, rwidth\u001b[38;5;241m=\u001b[39m\u001b[38;5;28;01mNone\u001b[39;00m, log\u001b[38;5;241m=\u001b[39m\u001b[38;5;28;01mFalse\u001b[39;00m, color\u001b[38;5;241m=\u001b[39m\u001b[38;5;28;01mNone\u001b[39;00m,\n\u001b[1;32m   2589\u001b[0m         label\u001b[38;5;241m=\u001b[39m\u001b[38;5;28;01mNone\u001b[39;00m, stacked\u001b[38;5;241m=\u001b[39m\u001b[38;5;28;01mFalse\u001b[39;00m, \u001b[38;5;241m*\u001b[39m, data\u001b[38;5;241m=\u001b[39m\u001b[38;5;28;01mNone\u001b[39;00m, \u001b[38;5;241m*\u001b[39m\u001b[38;5;241m*\u001b[39mkwargs):\n\u001b[0;32m-> 2590\u001b[0m     \u001b[38;5;28;01mreturn\u001b[39;00m \u001b[43mgca\u001b[49m\u001b[43m(\u001b[49m\u001b[43m)\u001b[49m\u001b[38;5;241;43m.\u001b[39;49m\u001b[43mhist\u001b[49m\u001b[43m(\u001b[49m\n\u001b[1;32m   2591\u001b[0m \u001b[43m        \u001b[49m\u001b[43mx\u001b[49m\u001b[43m,\u001b[49m\u001b[43m \u001b[49m\u001b[43mbins\u001b[49m\u001b[38;5;241;43m=\u001b[39;49m\u001b[43mbins\u001b[49m\u001b[43m,\u001b[49m\u001b[43m \u001b[49m\u001b[38;5;28;43mrange\u001b[39;49m\u001b[38;5;241;43m=\u001b[39;49m\u001b[38;5;28;43mrange\u001b[39;49m\u001b[43m,\u001b[49m\u001b[43m \u001b[49m\u001b[43mdensity\u001b[49m\u001b[38;5;241;43m=\u001b[39;49m\u001b[43mdensity\u001b[49m\u001b[43m,\u001b[49m\u001b[43m \u001b[49m\u001b[43mweights\u001b[49m\u001b[38;5;241;43m=\u001b[39;49m\u001b[43mweights\u001b[49m\u001b[43m,\u001b[49m\n\u001b[1;32m   2592\u001b[0m \u001b[43m        \u001b[49m\u001b[43mcumulative\u001b[49m\u001b[38;5;241;43m=\u001b[39;49m\u001b[43mcumulative\u001b[49m\u001b[43m,\u001b[49m\u001b[43m \u001b[49m\u001b[43mbottom\u001b[49m\u001b[38;5;241;43m=\u001b[39;49m\u001b[43mbottom\u001b[49m\u001b[43m,\u001b[49m\u001b[43m \u001b[49m\u001b[43mhisttype\u001b[49m\u001b[38;5;241;43m=\u001b[39;49m\u001b[43mhisttype\u001b[49m\u001b[43m,\u001b[49m\n\u001b[1;32m   2593\u001b[0m \u001b[43m        \u001b[49m\u001b[43malign\u001b[49m\u001b[38;5;241;43m=\u001b[39;49m\u001b[43malign\u001b[49m\u001b[43m,\u001b[49m\u001b[43m \u001b[49m\u001b[43morientation\u001b[49m\u001b[38;5;241;43m=\u001b[39;49m\u001b[43morientation\u001b[49m\u001b[43m,\u001b[49m\u001b[43m \u001b[49m\u001b[43mrwidth\u001b[49m\u001b[38;5;241;43m=\u001b[39;49m\u001b[43mrwidth\u001b[49m\u001b[43m,\u001b[49m\u001b[43m \u001b[49m\u001b[43mlog\u001b[49m\u001b[38;5;241;43m=\u001b[39;49m\u001b[43mlog\u001b[49m\u001b[43m,\u001b[49m\n\u001b[1;32m   2594\u001b[0m \u001b[43m        \u001b[49m\u001b[43mcolor\u001b[49m\u001b[38;5;241;43m=\u001b[39;49m\u001b[43mcolor\u001b[49m\u001b[43m,\u001b[49m\u001b[43m \u001b[49m\u001b[43mlabel\u001b[49m\u001b[38;5;241;43m=\u001b[39;49m\u001b[43mlabel\u001b[49m\u001b[43m,\u001b[49m\u001b[43m \u001b[49m\u001b[43mstacked\u001b[49m\u001b[38;5;241;43m=\u001b[39;49m\u001b[43mstacked\u001b[49m\u001b[43m,\u001b[49m\n\u001b[1;32m   2595\u001b[0m \u001b[43m        \u001b[49m\u001b[38;5;241;43m*\u001b[39;49m\u001b[38;5;241;43m*\u001b[39;49m\u001b[43m(\u001b[49m\u001b[43m{\u001b[49m\u001b[38;5;124;43m\"\u001b[39;49m\u001b[38;5;124;43mdata\u001b[39;49m\u001b[38;5;124;43m\"\u001b[39;49m\u001b[43m:\u001b[49m\u001b[43m \u001b[49m\u001b[43mdata\u001b[49m\u001b[43m}\u001b[49m\u001b[43m \u001b[49m\u001b[38;5;28;43;01mif\u001b[39;49;00m\u001b[43m \u001b[49m\u001b[43mdata\u001b[49m\u001b[43m \u001b[49m\u001b[38;5;129;43;01mis\u001b[39;49;00m\u001b[43m \u001b[49m\u001b[38;5;129;43;01mnot\u001b[39;49;00m\u001b[43m \u001b[49m\u001b[38;5;28;43;01mNone\u001b[39;49;00m\u001b[43m \u001b[49m\u001b[38;5;28;43;01melse\u001b[39;49;00m\u001b[43m \u001b[49m\u001b[43m{\u001b[49m\u001b[43m}\u001b[49m\u001b[43m)\u001b[49m\u001b[43m,\u001b[49m\u001b[43m \u001b[49m\u001b[38;5;241;43m*\u001b[39;49m\u001b[38;5;241;43m*\u001b[39;49m\u001b[43mkwargs\u001b[49m\u001b[43m)\u001b[49m\n",
      "File \u001b[0;32m~/miniconda3/envs/pytorch_env/lib/python3.9/site-packages/matplotlib/__init__.py:1412\u001b[0m, in \u001b[0;36m_preprocess_data.<locals>.inner\u001b[0;34m(ax, data, *args, **kwargs)\u001b[0m\n\u001b[1;32m   1409\u001b[0m \u001b[38;5;129m@functools\u001b[39m\u001b[38;5;241m.\u001b[39mwraps(func)\n\u001b[1;32m   1410\u001b[0m \u001b[38;5;28;01mdef\u001b[39;00m \u001b[38;5;21minner\u001b[39m(ax, \u001b[38;5;241m*\u001b[39margs, data\u001b[38;5;241m=\u001b[39m\u001b[38;5;28;01mNone\u001b[39;00m, \u001b[38;5;241m*\u001b[39m\u001b[38;5;241m*\u001b[39mkwargs):\n\u001b[1;32m   1411\u001b[0m     \u001b[38;5;28;01mif\u001b[39;00m data \u001b[38;5;129;01mis\u001b[39;00m \u001b[38;5;28;01mNone\u001b[39;00m:\n\u001b[0;32m-> 1412\u001b[0m         \u001b[38;5;28;01mreturn\u001b[39;00m \u001b[43mfunc\u001b[49m\u001b[43m(\u001b[49m\u001b[43max\u001b[49m\u001b[43m,\u001b[49m\u001b[43m \u001b[49m\u001b[38;5;241;43m*\u001b[39;49m\u001b[38;5;28;43mmap\u001b[39;49m\u001b[43m(\u001b[49m\u001b[43msanitize_sequence\u001b[49m\u001b[43m,\u001b[49m\u001b[43m \u001b[49m\u001b[43margs\u001b[49m\u001b[43m)\u001b[49m\u001b[43m,\u001b[49m\u001b[43m \u001b[49m\u001b[38;5;241;43m*\u001b[39;49m\u001b[38;5;241;43m*\u001b[39;49m\u001b[43mkwargs\u001b[49m\u001b[43m)\u001b[49m\n\u001b[1;32m   1414\u001b[0m     bound \u001b[38;5;241m=\u001b[39m new_sig\u001b[38;5;241m.\u001b[39mbind(ax, \u001b[38;5;241m*\u001b[39margs, \u001b[38;5;241m*\u001b[39m\u001b[38;5;241m*\u001b[39mkwargs)\n\u001b[1;32m   1415\u001b[0m     auto_label \u001b[38;5;241m=\u001b[39m (bound\u001b[38;5;241m.\u001b[39marguments\u001b[38;5;241m.\u001b[39mget(label_namer)\n\u001b[1;32m   1416\u001b[0m                   \u001b[38;5;129;01mor\u001b[39;00m bound\u001b[38;5;241m.\u001b[39mkwargs\u001b[38;5;241m.\u001b[39mget(label_namer))\n",
      "File \u001b[0;32m~/miniconda3/envs/pytorch_env/lib/python3.9/site-packages/matplotlib/axes/_axes.py:6639\u001b[0m, in \u001b[0;36mAxes.hist\u001b[0;34m(self, x, bins, range, density, weights, cumulative, bottom, histtype, align, orientation, rwidth, log, color, label, stacked, **kwargs)\u001b[0m\n\u001b[1;32m   6635\u001b[0m \u001b[38;5;66;03m# Loop through datasets\u001b[39;00m\n\u001b[1;32m   6636\u001b[0m \u001b[38;5;28;01mfor\u001b[39;00m i \u001b[38;5;129;01min\u001b[39;00m \u001b[38;5;28mrange\u001b[39m(nx):\n\u001b[1;32m   6637\u001b[0m     \u001b[38;5;66;03m# this will automatically overwrite bins,\u001b[39;00m\n\u001b[1;32m   6638\u001b[0m     \u001b[38;5;66;03m# so that each histogram uses the same bins\u001b[39;00m\n\u001b[0;32m-> 6639\u001b[0m     m, bins \u001b[38;5;241m=\u001b[39m \u001b[43mnp\u001b[49m\u001b[38;5;241;43m.\u001b[39;49m\u001b[43mhistogram\u001b[49m\u001b[43m(\u001b[49m\u001b[43mx\u001b[49m\u001b[43m[\u001b[49m\u001b[43mi\u001b[49m\u001b[43m]\u001b[49m\u001b[43m,\u001b[49m\u001b[43m \u001b[49m\u001b[43mbins\u001b[49m\u001b[43m,\u001b[49m\u001b[43m \u001b[49m\u001b[43mweights\u001b[49m\u001b[38;5;241;43m=\u001b[39;49m\u001b[43mw\u001b[49m\u001b[43m[\u001b[49m\u001b[43mi\u001b[49m\u001b[43m]\u001b[49m\u001b[43m,\u001b[49m\u001b[43m \u001b[49m\u001b[38;5;241;43m*\u001b[39;49m\u001b[38;5;241;43m*\u001b[39;49m\u001b[43mhist_kwargs\u001b[49m\u001b[43m)\u001b[49m\n\u001b[1;32m   6640\u001b[0m     tops\u001b[38;5;241m.\u001b[39mappend(m)\n\u001b[1;32m   6641\u001b[0m tops \u001b[38;5;241m=\u001b[39m np\u001b[38;5;241m.\u001b[39marray(tops, \u001b[38;5;28mfloat\u001b[39m)  \u001b[38;5;66;03m# causes problems later if it's an int\u001b[39;00m\n",
      "File \u001b[0;32m<__array_function__ internals>:5\u001b[0m, in \u001b[0;36mhistogram\u001b[0;34m(*args, **kwargs)\u001b[0m\n",
      "File \u001b[0;32m~/miniconda3/envs/pytorch_env/lib/python3.9/site-packages/numpy/lib/histograms.py:793\u001b[0m, in \u001b[0;36mhistogram\u001b[0;34m(a, bins, range, normed, weights, density)\u001b[0m\n\u001b[1;32m    681\u001b[0m \u001b[38;5;124mr\u001b[39m\u001b[38;5;124;03m\"\"\"\u001b[39;00m\n\u001b[1;32m    682\u001b[0m \u001b[38;5;124;03mCompute the histogram of a dataset.\u001b[39;00m\n\u001b[1;32m    683\u001b[0m \n\u001b[0;32m   (...)\u001b[0m\n\u001b[1;32m    789\u001b[0m \n\u001b[1;32m    790\u001b[0m \u001b[38;5;124;03m\"\"\"\u001b[39;00m\n\u001b[1;32m    791\u001b[0m a, weights \u001b[38;5;241m=\u001b[39m _ravel_and_check_weights(a, weights)\n\u001b[0;32m--> 793\u001b[0m bin_edges, uniform_bins \u001b[38;5;241m=\u001b[39m \u001b[43m_get_bin_edges\u001b[49m\u001b[43m(\u001b[49m\u001b[43ma\u001b[49m\u001b[43m,\u001b[49m\u001b[43m \u001b[49m\u001b[43mbins\u001b[49m\u001b[43m,\u001b[49m\u001b[43m \u001b[49m\u001b[38;5;28;43mrange\u001b[39;49m\u001b[43m,\u001b[49m\u001b[43m \u001b[49m\u001b[43mweights\u001b[49m\u001b[43m)\u001b[49m\n\u001b[1;32m    795\u001b[0m \u001b[38;5;66;03m# Histogram is an integer or a float array depending on the weights.\u001b[39;00m\n\u001b[1;32m    796\u001b[0m \u001b[38;5;28;01mif\u001b[39;00m weights \u001b[38;5;129;01mis\u001b[39;00m \u001b[38;5;28;01mNone\u001b[39;00m:\n",
      "File \u001b[0;32m~/miniconda3/envs/pytorch_env/lib/python3.9/site-packages/numpy/lib/histograms.py:426\u001b[0m, in \u001b[0;36m_get_bin_edges\u001b[0;34m(a, bins, range, weights)\u001b[0m\n\u001b[1;32m    423\u001b[0m     \u001b[38;5;28;01mif\u001b[39;00m n_equal_bins \u001b[38;5;241m<\u001b[39m \u001b[38;5;241m1\u001b[39m:\n\u001b[1;32m    424\u001b[0m         \u001b[38;5;28;01mraise\u001b[39;00m \u001b[38;5;167;01mValueError\u001b[39;00m(\u001b[38;5;124m'\u001b[39m\u001b[38;5;124m`bins` must be positive, when an integer\u001b[39m\u001b[38;5;124m'\u001b[39m)\n\u001b[0;32m--> 426\u001b[0m     first_edge, last_edge \u001b[38;5;241m=\u001b[39m \u001b[43m_get_outer_edges\u001b[49m\u001b[43m(\u001b[49m\u001b[43ma\u001b[49m\u001b[43m,\u001b[49m\u001b[43m \u001b[49m\u001b[38;5;28;43mrange\u001b[39;49m\u001b[43m)\u001b[49m\n\u001b[1;32m    428\u001b[0m \u001b[38;5;28;01melif\u001b[39;00m np\u001b[38;5;241m.\u001b[39mndim(bins) \u001b[38;5;241m==\u001b[39m \u001b[38;5;241m1\u001b[39m:\n\u001b[1;32m    429\u001b[0m     bin_edges \u001b[38;5;241m=\u001b[39m np\u001b[38;5;241m.\u001b[39masarray(bins)\n",
      "File \u001b[0;32m~/miniconda3/envs/pytorch_env/lib/python3.9/site-packages/numpy/lib/histograms.py:315\u001b[0m, in \u001b[0;36m_get_outer_edges\u001b[0;34m(a, range)\u001b[0m\n\u001b[1;32m    312\u001b[0m         \u001b[38;5;28;01mraise\u001b[39;00m \u001b[38;5;167;01mValueError\u001b[39;00m(\n\u001b[1;32m    313\u001b[0m             \u001b[38;5;124m'\u001b[39m\u001b[38;5;124mmax must be larger than min in range parameter.\u001b[39m\u001b[38;5;124m'\u001b[39m)\n\u001b[1;32m    314\u001b[0m     \u001b[38;5;28;01mif\u001b[39;00m \u001b[38;5;129;01mnot\u001b[39;00m (np\u001b[38;5;241m.\u001b[39misfinite(first_edge) \u001b[38;5;129;01mand\u001b[39;00m np\u001b[38;5;241m.\u001b[39misfinite(last_edge)):\n\u001b[0;32m--> 315\u001b[0m         \u001b[38;5;28;01mraise\u001b[39;00m \u001b[38;5;167;01mValueError\u001b[39;00m(\n\u001b[1;32m    316\u001b[0m             \u001b[38;5;124m\"\u001b[39m\u001b[38;5;124msupplied range of [\u001b[39m\u001b[38;5;132;01m{}\u001b[39;00m\u001b[38;5;124m, \u001b[39m\u001b[38;5;132;01m{}\u001b[39;00m\u001b[38;5;124m] is not finite\u001b[39m\u001b[38;5;124m\"\u001b[39m\u001b[38;5;241m.\u001b[39mformat(first_edge, last_edge))\n\u001b[1;32m    317\u001b[0m \u001b[38;5;28;01melif\u001b[39;00m a\u001b[38;5;241m.\u001b[39msize \u001b[38;5;241m==\u001b[39m \u001b[38;5;241m0\u001b[39m:\n\u001b[1;32m    318\u001b[0m     \u001b[38;5;66;03m# handle empty arrays. Can't determine range, so use 0-1.\u001b[39;00m\n\u001b[1;32m    319\u001b[0m     first_edge, last_edge \u001b[38;5;241m=\u001b[39m \u001b[38;5;241m0\u001b[39m, \u001b[38;5;241m1\u001b[39m\n",
      "\u001b[0;31mValueError\u001b[0m: supplied range of [-inf, 0.0] is not finite"
     ]
    },
    {
     "data": {
      "image/png": "[encoded data removed]",
      "text/plain": [
       "<Figure size 432x288 with 1 Axes>"
      ]
     },
     "metadata": {
      "needs_background": "light"
     },
     "output_type": "display_data"
    }
   ],
   "source": [
    "k=2#4#9\n",
    "print('lenght:', k+3,'sig fraction:',np.where(ragged_y[k]==1)[0].shape[0]/ragged_y[k].shape[0])\n",
    "plt.hist(ragged_data[k][ragged_y[k]==1,:,0].flatten(),bins=100,histtype='step',label='sig - ch 0')\n",
    "plt.hist(ragged_data[k][ragged_y[k]==0,:,0].flatten(),bins=100,histtype='step',label='bkg - ch 0')\n",
    "plt.yscale('log')\n",
    "plt.legend()\n",
    "plt.show()\n",
    "plt.hist(ragged_data[k][ragged_y[k]==1,:,1].flatten(),bins=100,histtype='step',label='sig - ch 1')\n",
    "plt.hist(ragged_data[k][ragged_y[k]==0,:,1].flatten(),bins=100,histtype='step',label='bkg - ch 1')\n",
    "plt.yscale('log')\n",
    "plt.legend()\n",
    "plt.show()"
   ]
  },
  {
   "cell_type": "code",
   "execution_count": null,
   "id": "8d5d6ea7",
   "metadata": {},
   "outputs": [],
   "source": []
  }
 ],
 "metadata": {
  "kernelspec": {
   "display_name": "Python 3 (ipykernel)",
   "language": "python",
   "name": "python3"
  },
  "language_info": {
   "codemirror_mode": {
    "name": "ipython",
    "version": 3
   },
   "file_extension": ".py",
   "mimetype": "text/x-python",
   "name": "python",
   "nbconvert_exporter": "python",
   "pygments_lexer": "ipython3",
   "version": "3.9.12"
  },
  "toc": {
   "base_numbering": 1,
   "nav_menu": {},
   "number_sections": true,
   "sideBar": true,
   "skip_h1_title": false,
   "title_cell": "Table of Contents",
   "title_sidebar": "Contents",
   "toc_cell": false,
   "toc_position": {},
   "toc_section_display": true,
   "toc_window_display": false
  }
 },
 "nbformat": 4,
 "nbformat_minor": 5
}
